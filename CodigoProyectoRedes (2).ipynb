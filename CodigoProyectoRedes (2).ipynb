{
  "cells": [
    {
      "cell_type": "markdown",
      "source": [
        "# Importacion librerias"
      ],
      "metadata": {
        "id": "Ua3O8hZMu9jQ"
      },
      "id": "Ua3O8hZMu9jQ"
    },
    {
      "cell_type": "code",
      "execution_count": 9,
      "id": "d40f6369-e0c4-402f-8f06-8c65b0ec1f25",
      "metadata": {
        "colab": {
          "base_uri": "https://localhost:8080/"
        },
        "id": "d40f6369-e0c4-402f-8f06-8c65b0ec1f25",
        "outputId": "19c06248-8df6-4798-a678-392939394c6d"
      },
      "outputs": [
        {
          "output_type": "stream",
          "name": "stdout",
          "text": [
            "Requirement already satisfied: gurobipy in /usr/local/lib/python3.10/dist-packages (11.0.3)\n"
          ]
        }
      ],
      "source": [
        "!pip install gurobipy\n",
        "from gurobipy import *\n",
        "import numpy as np\n",
        "import matplotlib.pyplot as plt\n",
        "import numpy as np\n",
        "import pandas as pd\n",
        "from gurobipy import Model, GRB, quicksum"
      ]
    },
    {
      "cell_type": "markdown",
      "source": [
        "# Definicion de parametros"
      ],
      "metadata": {
        "id": "hz7L340UvBl4"
      },
      "id": "hz7L340UvBl4"
    },
    {
      "cell_type": "code",
      "source": [
        "# Cargar los datos desde el archivo Excel\n",
        "df_costos = pd.read_excel('info.xlsx', sheet_name=\"Hoja 1\", usecols=\"A:C\", skiprows=0, nrows=96)\n",
        "df_costos['Hora'] = pd.to_datetime(df_costos['Hora'])\n",
        "\n",
        "\n",
        "# Definición de Nodos\n",
        "nodos = [\"Parqueadero\", \"Panzenu\", \"Pradera\"]\n",
        "clientes = nodos[1:]\n",
        "n = len(nodos)\n",
        "\n",
        "# Crear los arcos entre todos los nodos menos los que son del mismo nodo\n",
        "arcos = [(i, j) for i in nodos for j in nodos if i != j]\n",
        "\n",
        "# Tiempos de servicio manuales en cada nodo\n",
        "s = {\"Parqueadero\": 0, \"Panzenu\": 0, \"Pradera\": 0}\n",
        "\n",
        "# Definición de tiempos de viaje manuales entre nodos\n",
        "tiempo = {\n",
        "    (\"Parqueadero\", \"Panzenu\"): 50,\n",
        "    (\"Parqueadero\", \"Pradera\"): 20,\n",
        "    (\"Panzenu\", \"Parqueadero\"): 50,\n",
        "    (\"Panzenu\", \"Pradera\"): 30,\n",
        "    (\"Pradera\", \"Parqueadero\"): 20,\n",
        "    (\"Pradera\", \"Panzenu\"): 30,\n",
        "}\n",
        "\n",
        "# Definición de Vehículos con capacidades\n",
        "num_buses = 6\n",
        "vehiculos = list(range(1, num_buses + 1))\n",
        "Q = {k: 50 for k in vehiculos}"
      ],
      "metadata": {
        "id": "ThIWym76tyEx"
      },
      "id": "ThIWym76tyEx",
      "execution_count": 10,
      "outputs": []
    },
    {
      "cell_type": "markdown",
      "source": [
        "# Funciones complementarias"
      ],
      "metadata": {
        "id": "LiUjvUmYvOKB"
      },
      "id": "LiUjvUmYvOKB"
    },
    {
      "cell_type": "code",
      "source": [
        "#Funcion para obtener la demanda del nodo a donde se dirige el bus\n",
        "def get_demand(timestamp, df):\n",
        "    timestamp_str = timestamp.strftime('2024-08-05 %H:%M:%S')\n",
        "    demanda_row = df[df['Hora'] == timestamp_str]\n",
        "    if not demanda_row.empty:\n",
        "        panzenu_demand = demanda_row['Panzenu '].values[0]\n",
        "        pradera_demand = demanda_row['Pradera '].values[0]\n",
        "        return panzenu_demand, pradera_demand\n",
        "    else:\n",
        "        return 0, 0"
      ],
      "metadata": {
        "id": "glDgOkljuGdI"
      },
      "id": "glDgOkljuGdI",
      "execution_count": 11,
      "outputs": []
    },
    {
      "cell_type": "markdown",
      "source": [
        "# Modelo"
      ],
      "metadata": {
        "id": "Le0ZyjSfvRRR"
      },
      "id": "Le0ZyjSfvRRR"
    },
    {
      "cell_type": "code",
      "source": [
        "\n",
        "# Variables de decisión\n",
        "arco_var = [(i, j, k) for i in nodos for j in nodos for k in vehiculos if i != j]\n",
        "arco_tiempos = [(i, k) for i in nodos for k in vehiculos]\n",
        "\n",
        "# Crear el modelo\n",
        "model = Model('VRPTW')\n",
        "\n",
        "# Variables de Decisión\n",
        "x = model.addVars(arco_var, vtype=GRB.BINARY, name='x')\n",
        "t = model.addVars(arco_tiempos, vtype=GRB.CONTINUOUS, name='t')\n",
        "\n",
        "# Función Objetivo: Minimizar el tiempo total de viaje\n",
        "model.setObjective(quicksum(tiempo[i, j] * x[i, j, k] for i, j, k in arco_var), GRB.MINIMIZE)\n",
        "\n",
        "# Restricciones\n",
        "# Salida y llegada al Parqueadero\n",
        "model.addConstrs(quicksum(x[\"Parqueadero\", j, k] for j in clientes) <= 1 for k in vehiculos)\n",
        "model.addConstrs(quicksum(x[i, \"Parqueadero\", k] for i in clientes) <= 1 for k in vehiculos)\n",
        "\n",
        "# Cada cliente debe ser visitado una o mas beses de acuerdo al horario\n",
        "model.addConstrs(quicksum(x[i, j, k] for j in nodos for k in vehiculos if i != j) >= 1 for i in clientes)\n",
        "\n",
        "# Conservación de flujo\n",
        "model.addConstrs(\n",
        "    quicksum(x[i, j, k] for j in nodos if i != j) - quicksum(x[j, i, k] for j in nodos if i != j) == 0\n",
        "    for i in nodos for k in vehiculos\n",
        ")\n",
        "\n",
        "# Restricción de capacidad de los vehículos de acuerdo a la demanda de esa hora\n",
        "# Restricción de capacidad de los vehículos\n",
        "model.addConstrs(\n",
        "    (\n",
        "        quicksum(\n",
        "            get_demand(tiempo_llegada_timestamp, df_costos)[0] * x[i, j, k]\n",
        "            for i in nodos if i != \"Parqueadero\" for j in nodos if j == \"Panzenu\" and i != j\n",
        "        ) +\n",
        "        quicksum(\n",
        "            get_demand(tiempo_llegada_timestamp, df_costos)[1] * x[i, j, k]\n",
        "            for i in nodos if i != \"Parqueadero\" for j in nodos if j == \"Pradera\" and i != j\n",
        "        ) <= Q[k]\n",
        "    )\n",
        "    for k in vehiculos\n",
        ")\n",
        "\n",
        "\n",
        "\n",
        "# Restricción de ventana de tiempo(asegura que el la hora a la cual llega el bus coincida con el tiempo transcurrido)\n",
        "model.addConstrs(\n",
        "    (x[i, j, k] == 1) >> (t[i, k] + s[i] + tiempo[i, j] == t[j, k])\n",
        "    for i in clientes for j in clientes for k in vehiculos if i != j\n",
        ")\n"
      ],
      "metadata": {
        "colab": {
          "base_uri": "https://localhost:8080/"
        },
        "id": "KRbx7Nj7SwPz",
        "outputId": "2315007c-8c03-46a3-b660-9026efedaa4d"
      },
      "id": "KRbx7Nj7SwPz",
      "execution_count": 12,
      "outputs": [
        {
          "output_type": "execute_result",
          "data": {
            "text/plain": [
              "{('Panzenu', 'Pradera', 1): <gurobi.GenConstr *Awaiting Model Update*>,\n",
              " ('Panzenu', 'Pradera', 2): <gurobi.GenConstr *Awaiting Model Update*>,\n",
              " ('Panzenu', 'Pradera', 3): <gurobi.GenConstr *Awaiting Model Update*>,\n",
              " ('Panzenu', 'Pradera', 4): <gurobi.GenConstr *Awaiting Model Update*>,\n",
              " ('Panzenu', 'Pradera', 5): <gurobi.GenConstr *Awaiting Model Update*>,\n",
              " ('Panzenu', 'Pradera', 6): <gurobi.GenConstr *Awaiting Model Update*>,\n",
              " ('Pradera', 'Panzenu', 1): <gurobi.GenConstr *Awaiting Model Update*>,\n",
              " ('Pradera', 'Panzenu', 2): <gurobi.GenConstr *Awaiting Model Update*>,\n",
              " ('Pradera', 'Panzenu', 3): <gurobi.GenConstr *Awaiting Model Update*>,\n",
              " ('Pradera', 'Panzenu', 4): <gurobi.GenConstr *Awaiting Model Update*>,\n",
              " ('Pradera', 'Panzenu', 5): <gurobi.GenConstr *Awaiting Model Update*>,\n",
              " ('Pradera', 'Panzenu', 6): <gurobi.GenConstr *Awaiting Model Update*>}"
            ]
          },
          "metadata": {},
          "execution_count": 12
        }
      ]
    },
    {
      "cell_type": "code",
      "source": [
        "# Optimizar el modelo\n",
        "model.optimize()"
      ],
      "metadata": {
        "colab": {
          "base_uri": "https://localhost:8080/"
        },
        "id": "mvR67cQMvs-4",
        "outputId": "1e992a22-c72e-4273-8db4-1dc12f5a3b49"
      },
      "id": "mvR67cQMvs-4",
      "execution_count": 13,
      "outputs": [
        {
          "output_type": "stream",
          "name": "stdout",
          "text": [
            "Gurobi Optimizer version 11.0.3 build v11.0.3rc0 (linux64 - \"Ubuntu 22.04.3 LTS\")\n",
            "\n",
            "CPU model: Intel(R) Xeon(R) CPU @ 2.20GHz, instruction set [SSE2|AVX|AVX2]\n",
            "Thread count: 1 physical cores, 2 logical processors, using up to 2 threads\n",
            "\n",
            "Optimize a model with 38 rows, 54 columns and 132 nonzeros\n",
            "Model fingerprint: 0x0e83e2a6\n",
            "Model has 12 general constraints\n",
            "Variable types: 18 continuous, 36 integer (36 binary)\n",
            "Coefficient statistics:\n",
            "  Matrix range     [1e+00, 3e+01]\n",
            "  Objective range  [2e+01, 5e+01]\n",
            "  Bounds range     [1e+00, 1e+00]\n",
            "  RHS range        [1e+00, 5e+01]\n",
            "  GenCon rhs range [3e+01, 3e+01]\n",
            "  GenCon coe range [1e+00, 1e+00]\n",
            "Presolve added 6 rows and 0 columns\n",
            "Presolve removed 0 rows and 6 columns\n",
            "Presolve time: 0.00s\n",
            "Presolved: 44 rows, 48 columns, 144 nonzeros\n",
            "Presolved model has 12 SOS constraint(s)\n",
            "Variable types: 12 continuous, 36 integer (36 binary)\n",
            "Found heuristic solution: objective 100.0000000\n",
            "\n",
            "Root relaxation: objective 6.000000e+01, 14 iterations, 0.00 seconds (0.00 work units)\n",
            "\n",
            "    Nodes    |    Current Node    |     Objective Bounds      |     Work\n",
            " Expl Unexpl |  Obj  Depth IntInf | Incumbent    BestBd   Gap | It/Node Time\n",
            "\n",
            "     0     0   60.00000    0    6  100.00000   60.00000  40.0%     -    0s\n",
            "     0     0   60.00000    0    6  100.00000   60.00000  40.0%     -    0s\n",
            "     0     0 infeasible    0       100.00000  100.00000  0.00%     -    0s\n",
            "\n",
            "Explored 1 nodes (20 simplex iterations) in 0.04 seconds (0.00 work units)\n",
            "Thread count was 2 (of 2 available processors)\n",
            "\n",
            "Solution count 1: 100 \n",
            "\n",
            "Optimal solution found (tolerance 1.00e-04)\n",
            "Best objective 1.000000000000e+02, best bound 1.000000000000e+02, gap 0.0000%\n"
          ]
        }
      ]
    },
    {
      "cell_type": "markdown",
      "source": [
        "# Resultados modelo"
      ],
      "metadata": {
        "id": "4CuFAVTdvX1w"
      },
      "id": "4CuFAVTdvX1w"
    },
    {
      "cell_type": "code",
      "source": [
        "# Hora límite de regreso al Parqueadero (8:50 PM)\n",
        "hora_limite = 20 * 60 + 50  # 20:50 en minutos\n",
        "\n",
        "# Definir la ruta para cada vehículo\n",
        "rutas = {\n",
        "    1: [\"Parqueadero\", \"Pradera\", \"Panzenu\"],\n",
        "    2: [\"Parqueadero\", \"Panzenu\", \"Pradera\"]\n",
        "}\n",
        "\n",
        "# Crear una lista para almacenar los resultados\n",
        "resultados = []\n",
        "\n",
        "# Mostrar los tiempos de salida y llegada para cada tramo de la ruta de cada vehículo\n",
        "for vehiculo_id in [1, 2]:\n",
        "    r = rutas[vehiculo_id]\n",
        "    print(f\"\\nRuta del vehículo {vehiculo_id}:\")\n",
        "\n",
        "    # Hora de salida inicial para el primer vehículo\n",
        "    tiempo_actual = 5 * 60\n",
        "\n",
        "    # Comenzar en el Parqueadero\n",
        "    nodo_actual = r[0]\n",
        "\n",
        "    #Definir a cual paradero seguir dependiendo donde se encuentre\n",
        "    while True:\n",
        "        if nodo_actual == \"Parqueadero\":\n",
        "            nodo_siguiente = r[1]\n",
        "        elif nodo_actual == \"Pradera\":\n",
        "            nodo_siguiente = \"Panzenu\"\n",
        "        elif nodo_actual == \"Panzenu\":\n",
        "            nodo_siguiente = \"Pradera\"\n",
        "        else:\n",
        "            break\n",
        "\n",
        "        #Actualizacion de la hora teniendo en cuenta el tiempo de transporte\n",
        "        hora_salida_horas = int(tiempo_actual // 60)\n",
        "        minutos_salida = int(tiempo_actual % 60)\n",
        "        tiempo_actual += tiempo[nodo_actual, nodo_siguiente]\n",
        "        tiempo_actual %= 1440\n",
        "        hora_llegada_horas = int(tiempo_actual // 60)\n",
        "        minutos_llegada = int(tiempo_actual % 60)\n",
        "        tiempo_llegada_timestamp = pd.Timestamp(\"2024-08-05\") + pd.Timedelta(hours=hora_llegada_horas, minutes=minutos_llegada)\n",
        "        #Obtencion demanda dependiendo de la hora a la que llega el bus al destino\n",
        "        try:\n",
        "            panzenu_demand, pradera_demand = get_demand(tiempo_llegada_timestamp, df_costos)\n",
        "            if nodo_siguiente == \"Panzenu\":\n",
        "                demanda = f\"Panzenu: {panzenu_demand}\"\n",
        "                demanda1=panzenu_demand\n",
        "            elif nodo_siguiente == \"Pradera\":\n",
        "                demanda = f\"Pradera: {pradera_demand}\"\n",
        "                demanda1=pradera_demand\n",
        "            else:\n",
        "                demanda = \"Sin demanda\"\n",
        "\n",
        "        except KeyError as e:\n",
        "            print(f\"Error al obtener demanda para el tiempo {tiempo_llegada_timestamp}: {e}\")\n",
        "            demanda = \"Demanda no disponible\"\n",
        "\n",
        "        # Imprimir la ruta y la demanda\n",
        "        print(f\"Desde {nodo_actual} a {nodo_siguiente}: Salida {hora_salida_horas:02d}:{minutos_salida:02d}, \"\n",
        "              f\"Llegada {hora_llegada_horas:02d}:{minutos_llegada:02d}, {demanda}\")\n",
        "\n",
        "        # Almacenar los resultados en la lista\n",
        "        resultados.append({\n",
        "            \"Vehículo\": vehiculo_id,\n",
        "            \"Desde\": nodo_actual,\n",
        "            \"Hasta\": nodo_siguiente,\n",
        "            \"Hora Salida\": f\"{hora_salida_horas:02d}:{minutos_salida:02d}\",\n",
        "            \"Hora Llegada\": f\"{hora_llegada_horas:02d}:{minutos_llegada:02d}\",\n",
        "            \"Demanda\": demanda1\n",
        "        })\n",
        "\n",
        "        #Almacenamiento informacion cuando llega al parqueadero y termina ruta\n",
        "        if tiempo_actual >= hora_limite:\n",
        "            print(f\"Regresando al Parqueadero desde {nodo_siguiente}.\")\n",
        "\n",
        "            tiempo_actual += tiempo[nodo_siguiente, \"Parqueadero\"]\n",
        "            tiempo_actual %= 1440\n",
        "            hora_regreso_horas = int(tiempo_actual // 60)\n",
        "            minutos_regreso = int(tiempo_actual % 60)\n",
        "            resultados.append({\n",
        "                \"Vehículo\": vehiculo_id,\n",
        "                \"Desde\": nodo_siguiente,\n",
        "                \"Hasta\": \"Parqueadero\",\n",
        "                \"Hora Salida\": f\"{hora_llegada_horas:02d}:{minutos_llegada:02d}\",\n",
        "                \"Hora Llegada\": f\"{hora_regreso_horas:02d}:{minutos_regreso:02d}\",\n",
        "                \"Demanda\": \"Regreso\"\n",
        "            })\n",
        "            print(f\"Desde {nodo_siguiente} a Parqueadero: Salida {hora_llegada_horas:02d}:{minutos_llegada:02d}, \"\n",
        "                  f\"Llegada {hora_regreso_horas:02d}:{minutos_regreso:02d}, Regreso\")\n",
        "            break\n",
        "        # Actualizar nodo_actual\n",
        "        nodo_actual = nodo_siguiente"
      ],
      "metadata": {
        "colab": {
          "base_uri": "https://localhost:8080/"
        },
        "id": "Ip_4ynBnvWpg",
        "outputId": "26b73c99-3261-4fc4-f3b8-1229088b45d2"
      },
      "id": "Ip_4ynBnvWpg",
      "execution_count": 14,
      "outputs": [
        {
          "output_type": "stream",
          "name": "stdout",
          "text": [
            "\n",
            "Ruta del vehículo 1:\n",
            "Desde Parqueadero a Pradera: Salida 05:00, Llegada 05:20, Pradera: 36\n",
            "Desde Pradera a Panzenu: Salida 05:20, Llegada 05:50, Panzenu: 27\n",
            "Desde Panzenu a Pradera: Salida 05:50, Llegada 06:20, Pradera: 39\n",
            "Desde Pradera a Panzenu: Salida 06:20, Llegada 06:50, Panzenu: 36\n",
            "Desde Panzenu a Pradera: Salida 06:50, Llegada 07:20, Pradera: 41\n",
            "Desde Pradera a Panzenu: Salida 07:20, Llegada 07:50, Panzenu: 41\n",
            "Desde Panzenu a Pradera: Salida 07:50, Llegada 08:20, Pradera: 42\n",
            "Desde Pradera a Panzenu: Salida 08:20, Llegada 08:50, Panzenu: 43\n",
            "Desde Panzenu a Pradera: Salida 08:50, Llegada 09:20, Pradera: 42\n",
            "Desde Pradera a Panzenu: Salida 09:20, Llegada 09:50, Panzenu: 42\n",
            "Desde Panzenu a Pradera: Salida 09:50, Llegada 10:20, Pradera: 41\n",
            "Desde Pradera a Panzenu: Salida 10:20, Llegada 10:50, Panzenu: 41\n",
            "Desde Panzenu a Pradera: Salida 10:50, Llegada 11:20, Pradera: 41\n",
            "Desde Pradera a Panzenu: Salida 11:20, Llegada 11:50, Panzenu: 40\n",
            "Desde Panzenu a Pradera: Salida 11:50, Llegada 12:20, Pradera: 41\n",
            "Desde Pradera a Panzenu: Salida 12:20, Llegada 12:50, Panzenu: 41\n",
            "Desde Panzenu a Pradera: Salida 12:50, Llegada 13:20, Pradera: 42\n",
            "Desde Pradera a Panzenu: Salida 13:20, Llegada 13:50, Panzenu: 43\n",
            "Desde Panzenu a Pradera: Salida 13:50, Llegada 14:20, Pradera: 42\n",
            "Desde Pradera a Panzenu: Salida 14:20, Llegada 14:50, Panzenu: 46\n",
            "Desde Panzenu a Pradera: Salida 14:50, Llegada 15:20, Pradera: 43\n",
            "Desde Pradera a Panzenu: Salida 15:20, Llegada 15:50, Panzenu: 50\n",
            "Desde Panzenu a Pradera: Salida 15:50, Llegada 16:20, Pradera: 43\n",
            "Desde Pradera a Panzenu: Salida 16:20, Llegada 16:50, Panzenu: 50\n",
            "Desde Panzenu a Pradera: Salida 16:50, Llegada 17:20, Pradera: 42\n",
            "Desde Pradera a Panzenu: Salida 17:20, Llegada 17:50, Panzenu: 46\n",
            "Desde Panzenu a Pradera: Salida 17:50, Llegada 18:20, Pradera: 39\n",
            "Desde Pradera a Panzenu: Salida 18:20, Llegada 18:50, Panzenu: 37\n",
            "Desde Panzenu a Pradera: Salida 18:50, Llegada 19:20, Pradera: 36\n",
            "Desde Pradera a Panzenu: Salida 19:20, Llegada 19:50, Panzenu: 26\n",
            "Desde Panzenu a Pradera: Salida 19:50, Llegada 20:20, Pradera: 34\n",
            "Desde Pradera a Panzenu: Salida 20:20, Llegada 20:50, Panzenu: 19\n",
            "Regresando al Parqueadero desde Panzenu.\n",
            "Desde Panzenu a Parqueadero: Salida 20:50, Llegada 21:40, Regreso\n",
            "\n",
            "Ruta del vehículo 2:\n",
            "Desde Parqueadero a Panzenu: Salida 05:00, Llegada 05:50, Panzenu: 27\n",
            "Desde Panzenu a Pradera: Salida 05:50, Llegada 06:20, Pradera: 39\n",
            "Desde Pradera a Panzenu: Salida 06:20, Llegada 06:50, Panzenu: 36\n",
            "Desde Panzenu a Pradera: Salida 06:50, Llegada 07:20, Pradera: 41\n",
            "Desde Pradera a Panzenu: Salida 07:20, Llegada 07:50, Panzenu: 41\n",
            "Desde Panzenu a Pradera: Salida 07:50, Llegada 08:20, Pradera: 42\n",
            "Desde Pradera a Panzenu: Salida 08:20, Llegada 08:50, Panzenu: 43\n",
            "Desde Panzenu a Pradera: Salida 08:50, Llegada 09:20, Pradera: 42\n",
            "Desde Pradera a Panzenu: Salida 09:20, Llegada 09:50, Panzenu: 42\n",
            "Desde Panzenu a Pradera: Salida 09:50, Llegada 10:20, Pradera: 41\n",
            "Desde Pradera a Panzenu: Salida 10:20, Llegada 10:50, Panzenu: 41\n",
            "Desde Panzenu a Pradera: Salida 10:50, Llegada 11:20, Pradera: 41\n",
            "Desde Pradera a Panzenu: Salida 11:20, Llegada 11:50, Panzenu: 40\n",
            "Desde Panzenu a Pradera: Salida 11:50, Llegada 12:20, Pradera: 41\n",
            "Desde Pradera a Panzenu: Salida 12:20, Llegada 12:50, Panzenu: 41\n",
            "Desde Panzenu a Pradera: Salida 12:50, Llegada 13:20, Pradera: 42\n",
            "Desde Pradera a Panzenu: Salida 13:20, Llegada 13:50, Panzenu: 43\n",
            "Desde Panzenu a Pradera: Salida 13:50, Llegada 14:20, Pradera: 42\n",
            "Desde Pradera a Panzenu: Salida 14:20, Llegada 14:50, Panzenu: 46\n",
            "Desde Panzenu a Pradera: Salida 14:50, Llegada 15:20, Pradera: 43\n",
            "Desde Pradera a Panzenu: Salida 15:20, Llegada 15:50, Panzenu: 50\n",
            "Desde Panzenu a Pradera: Salida 15:50, Llegada 16:20, Pradera: 43\n",
            "Desde Pradera a Panzenu: Salida 16:20, Llegada 16:50, Panzenu: 50\n",
            "Desde Panzenu a Pradera: Salida 16:50, Llegada 17:20, Pradera: 42\n",
            "Desde Pradera a Panzenu: Salida 17:20, Llegada 17:50, Panzenu: 46\n",
            "Desde Panzenu a Pradera: Salida 17:50, Llegada 18:20, Pradera: 39\n",
            "Desde Pradera a Panzenu: Salida 18:20, Llegada 18:50, Panzenu: 37\n",
            "Desde Panzenu a Pradera: Salida 18:50, Llegada 19:20, Pradera: 36\n",
            "Desde Pradera a Panzenu: Salida 19:20, Llegada 19:50, Panzenu: 26\n",
            "Desde Panzenu a Pradera: Salida 19:50, Llegada 20:20, Pradera: 34\n",
            "Desde Pradera a Panzenu: Salida 20:20, Llegada 20:50, Panzenu: 19\n",
            "Regresando al Parqueadero desde Panzenu.\n",
            "Desde Panzenu a Parqueadero: Salida 20:50, Llegada 21:40, Regreso\n"
          ]
        }
      ]
    },
    {
      "cell_type": "code",
      "source": [
        "# Crear un DataFrame de los resultados\n",
        "df_resultados = pd.DataFrame(resultados)\n",
        "print(\"\\nResultados de las Rutas:\")\n",
        "print(df_resultados)"
      ],
      "metadata": {
        "colab": {
          "base_uri": "https://localhost:8080/"
        },
        "id": "xlckOWyM0gVm",
        "outputId": "1ccea097-7045-4b53-cbee-e5624a574cf3"
      },
      "id": "xlckOWyM0gVm",
      "execution_count": 15,
      "outputs": [
        {
          "output_type": "stream",
          "name": "stdout",
          "text": [
            "\n",
            "Resultados de las Rutas:\n",
            "    Vehículo        Desde        Hasta Hora Salida Hora Llegada  Demanda\n",
            "0          1  Parqueadero      Pradera       05:00        05:20       36\n",
            "1          1      Pradera      Panzenu       05:20        05:50       27\n",
            "2          1      Panzenu      Pradera       05:50        06:20       39\n",
            "3          1      Pradera      Panzenu       06:20        06:50       36\n",
            "4          1      Panzenu      Pradera       06:50        07:20       41\n",
            "..       ...          ...          ...         ...          ...      ...\n",
            "60         2      Panzenu      Pradera       18:50        19:20       36\n",
            "61         2      Pradera      Panzenu       19:20        19:50       26\n",
            "62         2      Panzenu      Pradera       19:50        20:20       34\n",
            "63         2      Pradera      Panzenu       20:20        20:50       19\n",
            "64         2      Panzenu  Parqueadero       20:50        21:40  Regreso\n",
            "\n",
            "[65 rows x 6 columns]\n"
          ]
        }
      ]
    },
    {
      "cell_type": "markdown",
      "source": [
        "# Exportacion datos"
      ],
      "metadata": {
        "id": "uZonGGxE7Afx"
      },
      "id": "uZonGGxE7Afx"
    },
    {
      "cell_type": "code",
      "source": [
        "#Ejecutar para crear excel de la tabla de resultados de transporte\n",
        "nombre_archivo = 'resultados_rutas.xlsx'\n",
        "df_resultados.to_excel(nombre_archivo, index=False)\n",
        "\n",
        "print(f\"Los resultados se han exportado a {nombre_archivo}\")"
      ],
      "metadata": {
        "colab": {
          "base_uri": "https://localhost:8080/"
        },
        "id": "2bAngCJC6-Mw",
        "outputId": "6b8482e6-8075-436e-e474-6d33091c774d"
      },
      "id": "2bAngCJC6-Mw",
      "execution_count": 16,
      "outputs": [
        {
          "output_type": "stream",
          "name": "stdout",
          "text": [
            "Los resultados se han exportado a resultados_rutas.xlsx\n"
          ]
        }
      ]
    }
  ],
  "metadata": {
    "kernelspec": {
      "display_name": "Python 3 (ipykernel)",
      "language": "python",
      "name": "python3"
    },
    "language_info": {
      "codemirror_mode": {
        "name": "ipython",
        "version": 3
      },
      "file_extension": ".py",
      "mimetype": "text/x-python",
      "name": "python",
      "nbconvert_exporter": "python",
      "pygments_lexer": "ipython3",
      "version": "3.12.4"
    },
    "colab": {
      "provenance": []
    }
  },
  "nbformat": 4,
  "nbformat_minor": 5
}